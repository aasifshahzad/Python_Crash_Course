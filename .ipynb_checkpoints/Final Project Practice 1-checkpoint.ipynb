{
 "cells": [
  {
   "cell_type": "code",
   "execution_count": 44,
   "metadata": {},
   "outputs": [],
   "source": [
    "def get_event_date(event): # receiving events with respect to date\n",
    "    return event.date\n",
    "\n",
    "def current_users(events): # identifying users involved in events\n",
    "    events.sort(key = get_event_date)\n",
    "    machines = {}       # making dict to store the list of user of machine according to event\n",
    "    for event in events:\n",
    "        if event.machine not in machines: # checking weather a machine is availible in the list or nor\n",
    "            machines[event.machine] = set() # if not then add it to the dict\n",
    "        # adding user at login and removing when logout\n",
    "        \n",
    "        if event.type == 'login':\n",
    "            machines[event.machine].add(event.user)\n",
    "        if event.type == 'logout':\n",
    "            machines[event.machine].remove(event.user)\n",
    "    return machines # it will return a dictonary\n",
    "def generate_report(machines):\n",
    "    for machine, users in machines.items():\n",
    "        if len(users)>0:\n",
    "            user_list = ','.join(users) # joining the user which login \n",
    "            print('{} : {}'.format(machine,user_list))\n",
    "    "
   ]
  },
  {
   "cell_type": "code",
   "execution_count": 45,
   "metadata": {},
   "outputs": [],
   "source": [
    "class Event:\n",
    "    def __init__(self,event_date,event_type,machine,user):\n",
    "        self.date = event_date\n",
    "        self.type = event_type\n",
    "        self.machine = machine\n",
    "        self.user = user\n",
    "    def __str__(self):\n",
    "        return '{} {} {} {}'.format(self.event_date,self.event_type,self.machine,self.user)"
   ]
  },
  {
   "cell_type": "code",
   "execution_count": 48,
   "metadata": {},
   "outputs": [],
   "source": [
    "events = [\n",
    "    Event('2020-1-21 12:45:56','login','myworkstation.local','jordan'),\n",
    "    Event('2020-1-22 15:45:56','logout','webserver.local','jordan'),\n",
    "    Event('2020-1-21 18:45:56','login','webserver.local','lane'),\n",
    "    Event('2020-1-23 15:45:56','logout','myworkstation.local','jordan'),\n",
    "    Event('2020-1-21 16:45:56','login','webserver.local','jordan'),\n",
    "    Event('2020-1-24 13:45:56','login','mailserver.local','chris'),\n",
    "    Event('2020-01-21 12:45:56', 'login', 'myworkstation.local', 'jordan'),\n",
    "    Event('2020-01-22 15:53:42', 'logout', 'webserver.local', 'jordan'),\n",
    "    Event('2020-01-21 18:53:21', 'login', 'webserver.local', 'lane'),\n",
    "    Event('2020-01-22 10:25:34', 'logout', 'myworkstation.local', 'jordan'),\n",
    "    Event('2020-01-21 08:20:01', 'login', 'webserver.local', 'jordan'),\n",
    "    Event('2020-01-25 11:24:35', 'logout', 'mailserver.local', 'chris'),\n",
    "]"
   ]
  },
  {
   "cell_type": "code",
   "execution_count": 49,
   "metadata": {},
   "outputs": [
    {
     "ename": "KeyError",
     "evalue": "'chris'",
     "output_type": "error",
     "traceback": [
      "\u001b[1;31m---------------------------------------------------------------------------\u001b[0m",
      "\u001b[1;31mKeyError\u001b[0m                                  Traceback (most recent call last)",
      "\u001b[1;32m<ipython-input-49-46e68509ab0d>\u001b[0m in \u001b[0;36m<module>\u001b[1;34m\u001b[0m\n\u001b[1;32m----> 1\u001b[1;33m \u001b[0musers\u001b[0m \u001b[1;33m=\u001b[0m \u001b[0mcurrent_users\u001b[0m\u001b[1;33m(\u001b[0m\u001b[0mevents\u001b[0m\u001b[1;33m)\u001b[0m\u001b[1;33m\u001b[0m\u001b[1;33m\u001b[0m\u001b[0m\n\u001b[0m\u001b[0;32m      2\u001b[0m \u001b[0mprint\u001b[0m\u001b[1;33m(\u001b[0m\u001b[0musers\u001b[0m\u001b[1;33m)\u001b[0m\u001b[1;33m\u001b[0m\u001b[1;33m\u001b[0m\u001b[0m\n",
      "\u001b[1;32m<ipython-input-44-36c75683e996>\u001b[0m in \u001b[0;36mcurrent_users\u001b[1;34m(events)\u001b[0m\n\u001b[0;32m     13\u001b[0m             \u001b[0mmachines\u001b[0m\u001b[1;33m[\u001b[0m\u001b[0mevent\u001b[0m\u001b[1;33m.\u001b[0m\u001b[0mmachine\u001b[0m\u001b[1;33m]\u001b[0m\u001b[1;33m.\u001b[0m\u001b[0madd\u001b[0m\u001b[1;33m(\u001b[0m\u001b[0mevent\u001b[0m\u001b[1;33m.\u001b[0m\u001b[0muser\u001b[0m\u001b[1;33m)\u001b[0m\u001b[1;33m\u001b[0m\u001b[1;33m\u001b[0m\u001b[0m\n\u001b[0;32m     14\u001b[0m         \u001b[1;32mif\u001b[0m \u001b[0mevent\u001b[0m\u001b[1;33m.\u001b[0m\u001b[0mtype\u001b[0m \u001b[1;33m==\u001b[0m \u001b[1;34m'logout'\u001b[0m\u001b[1;33m:\u001b[0m\u001b[1;33m\u001b[0m\u001b[1;33m\u001b[0m\u001b[0m\n\u001b[1;32m---> 15\u001b[1;33m             \u001b[0mmachines\u001b[0m\u001b[1;33m[\u001b[0m\u001b[0mevent\u001b[0m\u001b[1;33m.\u001b[0m\u001b[0mmachine\u001b[0m\u001b[1;33m]\u001b[0m\u001b[1;33m.\u001b[0m\u001b[0mremove\u001b[0m\u001b[1;33m(\u001b[0m\u001b[0mevent\u001b[0m\u001b[1;33m.\u001b[0m\u001b[0muser\u001b[0m\u001b[1;33m)\u001b[0m\u001b[1;33m\u001b[0m\u001b[1;33m\u001b[0m\u001b[0m\n\u001b[0m\u001b[0;32m     16\u001b[0m     \u001b[1;32mreturn\u001b[0m \u001b[0mmachines\u001b[0m \u001b[1;31m# it will return a dictonary\u001b[0m\u001b[1;33m\u001b[0m\u001b[1;33m\u001b[0m\u001b[0m\n\u001b[0;32m     17\u001b[0m \u001b[1;32mdef\u001b[0m \u001b[0mgenerate_report\u001b[0m\u001b[1;33m(\u001b[0m\u001b[0mmachines\u001b[0m\u001b[1;33m)\u001b[0m\u001b[1;33m:\u001b[0m\u001b[1;33m\u001b[0m\u001b[1;33m\u001b[0m\u001b[0m\n",
      "\u001b[1;31mKeyError\u001b[0m: 'chris'"
     ]
    }
   ],
   "source": [
    "users = current_users(events)\n",
    "print(users)"
   ]
  },
  {
   "cell_type": "code",
   "execution_count": 33,
   "metadata": {},
   "outputs": [],
   "source": [
    "generate_report(users)"
   ]
  },
  {
   "cell_type": "markdown",
   "metadata": {},
   "source": [
    "# Project 2#"
   ]
  },
  {
   "cell_type": "raw",
   "metadata": {},
   "source": [
    "Project goal \n",
    "Create a dictionary with words and word frequencies that can be passed to the generate_from_frequencies function of the WordCloud class.\n",
    "\n",
    "Once you have the dictionary, use this code to generate the word cloud image:\n",
    "\n",
    "cloud = wordcloud.WordCloud()\n",
    "cloud.generate_from_frequencies(frequencies)\n",
    "cloud.to_file(\"myfile.jpg\")\n",
    "\n",
    "Things to remember \n",
    "\n",
    "Before processing any text, you need to remove all the punctuation marks. To do this, you can go through each line of text, character-by-character, using the isalpha() method. This will check whether or not the character is a letter.\n",
    "To split a line of text into words, you can use the split() method.\n",
    "Before storing words in the frequency dictionary, check if they’re part of the \"uninteresting\" set of words (for example: \"a\", \"the\", \"to\", \"if\"). Make this set a parameter to your function so that you can change it if necessary."
   ]
  }
 ],
 "metadata": {
  "kernelspec": {
   "display_name": "Python 3",
   "language": "python",
   "name": "python3"
  },
  "language_info": {
   "codemirror_mode": {
    "name": "ipython",
    "version": 3
   },
   "file_extension": ".py",
   "mimetype": "text/x-python",
   "name": "python",
   "nbconvert_exporter": "python",
   "pygments_lexer": "ipython3",
   "version": "3.7.3"
  }
 },
 "nbformat": 4,
 "nbformat_minor": 2
}
